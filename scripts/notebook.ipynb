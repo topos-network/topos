{
 "cells": [
  {
   "cell_type": "code",
   "execution_count": 51,
   "id": "6efe932b",
   "metadata": {},
   "outputs": [],
   "source": [
    "import matplotlib.pyplot as plt\n",
    "import pandas as pd"
   ]
  },
  {
   "cell_type": "code",
   "execution_count": 52,
   "id": "9de2f611",
   "metadata": {},
   "outputs": [],
   "source": [
    "df = pd.read_csv(\"../params-minimizer/result.csv\", delimiter=\";\")"
   ]
  },
  {
   "cell_type": "code",
   "execution_count": 53,
   "id": "01ce6780",
   "metadata": {},
   "outputs": [
    {
     "data": {
      "text/html": [
       "<div>\n",
       "<style scoped>\n",
       "    .dataframe tbody tr th:only-of-type {\n",
       "        vertical-align: middle;\n",
       "    }\n",
       "\n",
       "    .dataframe tbody tr th {\n",
       "        vertical-align: top;\n",
       "    }\n",
       "\n",
       "    .dataframe thead th {\n",
       "        text-align: right;\n",
       "    }\n",
       "</style>\n",
       "<table border=\"1\" class=\"dataframe\">\n",
       "  <thead>\n",
       "    <tr style=\"text-align: right;\">\n",
       "      <th></th>\n",
       "      <th>N</th>\n",
       "      <th>MS</th>\n",
       "      <th>MS%</th>\n",
       "      <th>E</th>\n",
       "      <th>E%</th>\n",
       "      <th>ET</th>\n",
       "      <th>RT</th>\n",
       "      <th>DT</th>\n",
       "    </tr>\n",
       "  </thead>\n",
       "  <tbody>\n",
       "    <tr>\n",
       "      <th>0</th>\n",
       "      <td>64</td>\n",
       "      <td>6</td>\n",
       "      <td>9.375000</td>\n",
       "      <td>12</td>\n",
       "      <td>18.750000</td>\n",
       "      <td>58.333332</td>\n",
       "      <td>25.000000</td>\n",
       "      <td>58.333332</td>\n",
       "    </tr>\n",
       "    <tr>\n",
       "      <th>1</th>\n",
       "      <td>128</td>\n",
       "      <td>7</td>\n",
       "      <td>5.468750</td>\n",
       "      <td>15</td>\n",
       "      <td>11.718750</td>\n",
       "      <td>60.000004</td>\n",
       "      <td>26.666668</td>\n",
       "      <td>60.000004</td>\n",
       "    </tr>\n",
       "    <tr>\n",
       "      <th>2</th>\n",
       "      <td>256</td>\n",
       "      <td>8</td>\n",
       "      <td>3.125000</td>\n",
       "      <td>16</td>\n",
       "      <td>6.250000</td>\n",
       "      <td>62.500000</td>\n",
       "      <td>31.250000</td>\n",
       "      <td>62.500000</td>\n",
       "    </tr>\n",
       "    <tr>\n",
       "      <th>3</th>\n",
       "      <td>512</td>\n",
       "      <td>9</td>\n",
       "      <td>1.757812</td>\n",
       "      <td>18</td>\n",
       "      <td>3.515625</td>\n",
       "      <td>61.111110</td>\n",
       "      <td>27.777779</td>\n",
       "      <td>61.111110</td>\n",
       "    </tr>\n",
       "    <tr>\n",
       "      <th>4</th>\n",
       "      <td>1024</td>\n",
       "      <td>10</td>\n",
       "      <td>0.976562</td>\n",
       "      <td>22</td>\n",
       "      <td>2.148438</td>\n",
       "      <td>63.636364</td>\n",
       "      <td>31.818182</td>\n",
       "      <td>63.636364</td>\n",
       "    </tr>\n",
       "  </tbody>\n",
       "</table>\n",
       "</div>"
      ],
      "text/plain": [
       "      N  MS       MS%   E         E%         ET         RT         DT\n",
       "0    64   6  9.375000  12  18.750000  58.333332  25.000000  58.333332\n",
       "1   128   7  5.468750  15  11.718750  60.000004  26.666668  60.000004\n",
       "2   256   8  3.125000  16   6.250000  62.500000  31.250000  62.500000\n",
       "3   512   9  1.757812  18   3.515625  61.111110  27.777779  61.111110\n",
       "4  1024  10  0.976562  22   2.148438  63.636364  31.818182  63.636364"
      ]
     },
     "execution_count": 53,
     "metadata": {},
     "output_type": "execute_result"
    }
   ],
   "source": [
    "df.head(5)"
   ]
  },
  {
   "cell_type": "code",
   "execution_count": 54,
   "id": "b78a9c8d",
   "metadata": {},
   "outputs": [
    {
     "data": {
      "image/png": "[encoded data removed]",
      "text/plain": [
       "<Figure size 432x288 with 1 Axes>"
      ]
     },
     "metadata": {
      "needs_background": "light"
     },
     "output_type": "display_data"
    }
   ],
   "source": [
    "ax = df.plot(x=\"N\", y=\"MS\", kind=\"scatter\", color=\"C2\", label=\"theory\")\n",
    "df.plot(x=\"N\", y=\"E\", kind=\"scatter\", ax=ax, color=\"C3\", label=\"practice\")\n",
    "plt.title(\"Log base 2\")\n",
    "plt.show()"
   ]
  },
  {
   "cell_type": "code",
   "execution_count": 64,
   "id": "34c22ebe",
   "metadata": {},
   "outputs": [],
   "source": [
    "df = pd.read_csv(\"/home/ahmed/Desktop/AT2/tce/tce/result-ln.csv\", delimiter=\";\")"
   ]
  },
  {
   "cell_type": "code",
   "execution_count": 65,
   "id": "d8d28d1e",
   "metadata": {},
   "outputs": [
    {
     "data": {
      "image/png": "[encoded data removed]",
      "text/plain": [
       "<Figure size 432x288 with 1 Axes>"
      ]
     },
     "metadata": {
      "needs_background": "light"
     },
     "output_type": "display_data"
    }
   ],
   "source": [
    "ax = df.plot(x=\"N\", y=\"MS\", kind=\"line\", color=\"C2\", label=\"Ln(N)\")\n",
    "df.plot(x=\"N\", y=\"E\", kind=\"line\", ax=ax, color=\"C3\", label=\"min_sample_size\")\n",
    "df.plot(x=\"N\", y=\"ET\", kind=\"line\", ax=ax, color=\"C4\", label=\"echo_threshold\")\n",
    "\n",
    "plt.title(\"Napierian log (Ln)\")\n",
    "plt.show()"
   ]
  },
  {
   "cell_type": "code",
   "execution_count": null,
   "id": "1dc76159",
   "metadata": {},
   "outputs": [],
   "source": []
  }
 ],
 "metadata": {
  "kernelspec": {
   "display_name": "Python 3",
   "language": "python",
   "name": "python3"
  },
  "language_info": {
   "codemirror_mode": {
    "name": "ipython",
    "version": 3
   },
   "file_extension": ".py",
   "mimetype": "text/x-python",
   "name": "python",
   "nbconvert_exporter": "python",
   "pygments_lexer": "ipython3",
   "version": "3.6.9"
  },
  "latex_envs": {
   "LaTeX_envs_menu_present": true,
   "autoclose": false,
   "autocomplete": true,
   "bibliofile": "biblio.bib",
   "cite_by": "apalike",
   "current_citInitial": 1,
   "eqLabelWithNumbers": true,
   "eqNumInitial": 1,
   "hotkeys": {
    "equation": "Ctrl-E",
    "itemize": "Ctrl-I"
   },
   "labels_anchors": false,
   "latex_user_defs": false,
   "report_style_numbering": false,
   "user_envs_cfg": false
  }
 },
 "nbformat": 4,
 "nbformat_minor": 5
}
